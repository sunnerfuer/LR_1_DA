{
 "cells": [
  {
   "cell_type": "markdown",
   "id": "872c4053-576a-4116-afa4-d9c676346c77",
   "metadata": {},
   "source": [
    "**Цель работы:**\n",
    "\n",
    "Осуществить предварительную обработку данных csv-файла, выявить и устранить проблемы в этих данных."
   ]
  },
  {
   "cell_type": "markdown",
   "id": "8ed1ed90-1352-41c0-a89e-f0ee8b073482",
   "metadata": {},
   "source": [
    "# Загрузка набора данных"
   ]
  },
  {
   "cell_type": "markdown",
   "id": "1e736d0c-0cec-42c1-bc1c-ac4edb71b427",
   "metadata": {},
   "source": [
    "### Описание предметной области"
   ]
  },
  {
   "cell_type": "markdown",
   "id": "f0240171-94c8-4b16-9741-cb3e23dbc2b0",
   "metadata": {},
   "source": [
    "Вариант № 14\n",
    "\n",
    "Набор данных: clients\n",
    "\n",
    "Атрибуты: 'ID', 'Year_Birth', 'Education', 'Marital_Status', 'Income', 'Kidhome','Dt_Customer', 'NumDealsPurchases'"
   ]
  },
  {
   "cell_type": "markdown",
   "id": "3f23b038-fa61-46c8-b9e9-c5ef85b27128",
   "metadata": {},
   "source": [
    "### 1.Чтение файла (набора данных)"
   ]
  },
  {
   "cell_type": "code",
   "execution_count": 4,
   "id": "5f48a259-e82f-48da-a59e-181250598406",
   "metadata": {},
   "outputs": [],
   "source": [
    " import pandas as pd\n",
    " df = pd.read_csv(r\"C:\\Users\\derya\\Downloads\\LR1_AD\\clients.csv\", sep =';' ) # импорт библиотек, чтение файла с помощью pandas"
   ]
  },
  {
   "cell_type": "markdown",
   "id": "eb3496d0-1ccf-456c-ae3b-72d3b8a3073e",
   "metadata": {},
   "source": [
    "### 2. Обзор данных"
   ]
  },
  {
   "cell_type": "markdown",
   "id": "7a38add9-b643-4224-a411-c83744eea62d",
   "metadata": {},
   "source": [
    "2.1 Вывод первых 20 строк с помощью метода head."
   ]
  },
  {
   "cell_type": "code",
   "execution_count": 5,
   "id": "609d3276-d934-4563-ab8e-5e47988da5b8",
   "metadata": {},
   "outputs": [
    {
     "data": {
      "text/html": [
       "<div>\n",
       "<style scoped>\n",
       "    .dataframe tbody tr th:only-of-type {\n",
       "        vertical-align: middle;\n",
       "    }\n",
       "\n",
       "    .dataframe tbody tr th {\n",
       "        vertical-align: top;\n",
       "    }\n",
       "\n",
       "    .dataframe thead th {\n",
       "        text-align: right;\n",
       "    }\n",
       "</style>\n",
       "<table border=\"1\" class=\"dataframe\">\n",
       "  <thead>\n",
       "    <tr style=\"text-align: right;\">\n",
       "      <th></th>\n",
       "      <th>ID</th>\n",
       "      <th>Year_Birth</th>\n",
       "      <th>Education</th>\n",
       "      <th>Marital_Status</th>\n",
       "      <th>Income</th>\n",
       "      <th>Kidhome</th>\n",
       "      <th>Dt_Customer</th>\n",
       "      <th>NumDealsPurchases</th>\n",
       "    </tr>\n",
       "  </thead>\n",
       "  <tbody>\n",
       "    <tr>\n",
       "      <th>0</th>\n",
       "      <td>5524</td>\n",
       "      <td>1957</td>\n",
       "      <td>Graduation</td>\n",
       "      <td>Single</td>\n",
       "      <td>58138.0</td>\n",
       "      <td>0.0</td>\n",
       "      <td>04.09.2012</td>\n",
       "      <td>3.0</td>\n",
       "    </tr>\n",
       "    <tr>\n",
       "      <th>1</th>\n",
       "      <td>2174</td>\n",
       "      <td>1954</td>\n",
       "      <td>Graduation</td>\n",
       "      <td>Single</td>\n",
       "      <td>46344.0</td>\n",
       "      <td>1.0</td>\n",
       "      <td>08.03.2014</td>\n",
       "      <td>2.0</td>\n",
       "    </tr>\n",
       "    <tr>\n",
       "      <th>2</th>\n",
       "      <td>4141</td>\n",
       "      <td>1965</td>\n",
       "      <td>Graduation</td>\n",
       "      <td>Together</td>\n",
       "      <td>71613.0</td>\n",
       "      <td>0.0</td>\n",
       "      <td>21.08.2013</td>\n",
       "      <td>1.0</td>\n",
       "    </tr>\n",
       "    <tr>\n",
       "      <th>3</th>\n",
       "      <td>6182</td>\n",
       "      <td>1984</td>\n",
       "      <td>Graduation</td>\n",
       "      <td>Together</td>\n",
       "      <td>26646.0</td>\n",
       "      <td>1.0</td>\n",
       "      <td>10.02.2014</td>\n",
       "      <td>2.0</td>\n",
       "    </tr>\n",
       "    <tr>\n",
       "      <th>4</th>\n",
       "      <td>5324</td>\n",
       "      <td>1981</td>\n",
       "      <td>PhD</td>\n",
       "      <td>Married</td>\n",
       "      <td>58293.0</td>\n",
       "      <td>1.0</td>\n",
       "      <td>19.01.2014</td>\n",
       "      <td>5.0</td>\n",
       "    </tr>\n",
       "    <tr>\n",
       "      <th>5</th>\n",
       "      <td>7446</td>\n",
       "      <td>1967</td>\n",
       "      <td>Master</td>\n",
       "      <td>Together</td>\n",
       "      <td>62513.0</td>\n",
       "      <td>0.0</td>\n",
       "      <td>09.09.2013</td>\n",
       "      <td>2.0</td>\n",
       "    </tr>\n",
       "    <tr>\n",
       "      <th>6</th>\n",
       "      <td>965</td>\n",
       "      <td>1971</td>\n",
       "      <td>Graduation</td>\n",
       "      <td>Divorced</td>\n",
       "      <td>55635.0</td>\n",
       "      <td>0.0</td>\n",
       "      <td>13.11.2012</td>\n",
       "      <td>4.0</td>\n",
       "    </tr>\n",
       "    <tr>\n",
       "      <th>7</th>\n",
       "      <td>6177</td>\n",
       "      <td>1985</td>\n",
       "      <td>PhD</td>\n",
       "      <td>Married</td>\n",
       "      <td>33454.0</td>\n",
       "      <td>1.0</td>\n",
       "      <td>08.05.2013</td>\n",
       "      <td>2.0</td>\n",
       "    </tr>\n",
       "    <tr>\n",
       "      <th>8</th>\n",
       "      <td>4855</td>\n",
       "      <td>1974</td>\n",
       "      <td>PhD</td>\n",
       "      <td>Together</td>\n",
       "      <td>30351.0</td>\n",
       "      <td>1.0</td>\n",
       "      <td>06.06.2013</td>\n",
       "      <td>1.0</td>\n",
       "    </tr>\n",
       "    <tr>\n",
       "      <th>9</th>\n",
       "      <td>5899</td>\n",
       "      <td>1950</td>\n",
       "      <td>PhD</td>\n",
       "      <td>Together</td>\n",
       "      <td>5648.0</td>\n",
       "      <td>1.0</td>\n",
       "      <td>13.03.2014</td>\n",
       "      <td>1.0</td>\n",
       "    </tr>\n",
       "    <tr>\n",
       "      <th>10</th>\n",
       "      <td>1994</td>\n",
       "      <td>1983</td>\n",
       "      <td>Graduation</td>\n",
       "      <td>MARRIED</td>\n",
       "      <td>NaN</td>\n",
       "      <td>NaN</td>\n",
       "      <td>NaN</td>\n",
       "      <td>NaN</td>\n",
       "    </tr>\n",
       "    <tr>\n",
       "      <th>11</th>\n",
       "      <td>387</td>\n",
       "      <td>1976</td>\n",
       "      <td>Basic</td>\n",
       "      <td>Married</td>\n",
       "      <td>7500.0</td>\n",
       "      <td>0.0</td>\n",
       "      <td>13.11.2012</td>\n",
       "      <td>1.0</td>\n",
       "    </tr>\n",
       "    <tr>\n",
       "      <th>12</th>\n",
       "      <td>2125</td>\n",
       "      <td>1959</td>\n",
       "      <td>Graduation</td>\n",
       "      <td>Divorced</td>\n",
       "      <td>63033.0</td>\n",
       "      <td>0.0</td>\n",
       "      <td>15.11.2013</td>\n",
       "      <td>1.0</td>\n",
       "    </tr>\n",
       "    <tr>\n",
       "      <th>13</th>\n",
       "      <td>8180</td>\n",
       "      <td>1952</td>\n",
       "      <td>Master</td>\n",
       "      <td>Divorced</td>\n",
       "      <td>59354.0</td>\n",
       "      <td>1.0</td>\n",
       "      <td>15.11.2013</td>\n",
       "      <td>3.0</td>\n",
       "    </tr>\n",
       "    <tr>\n",
       "      <th>14</th>\n",
       "      <td>2569</td>\n",
       "      <td>1987</td>\n",
       "      <td>Graduation</td>\n",
       "      <td>Married</td>\n",
       "      <td>17323.0</td>\n",
       "      <td>0.0</td>\n",
       "      <td>10.10.2012</td>\n",
       "      <td>1.0</td>\n",
       "    </tr>\n",
       "    <tr>\n",
       "      <th>15</th>\n",
       "      <td>2114</td>\n",
       "      <td>1946</td>\n",
       "      <td>PhD</td>\n",
       "      <td>SINGL</td>\n",
       "      <td>82800.0</td>\n",
       "      <td>0.0</td>\n",
       "      <td>24.11.2012</td>\n",
       "      <td>1.0</td>\n",
       "    </tr>\n",
       "    <tr>\n",
       "      <th>16</th>\n",
       "      <td>9736</td>\n",
       "      <td>1980</td>\n",
       "      <td>Graduation</td>\n",
       "      <td>Married</td>\n",
       "      <td>41850.0</td>\n",
       "      <td>1.0</td>\n",
       "      <td>24.12.2012</td>\n",
       "      <td>3.0</td>\n",
       "    </tr>\n",
       "    <tr>\n",
       "      <th>17</th>\n",
       "      <td>4939</td>\n",
       "      <td>1946</td>\n",
       "      <td>Graduation</td>\n",
       "      <td>Together</td>\n",
       "      <td>37760.0</td>\n",
       "      <td>0.0</td>\n",
       "      <td>31.08.2012</td>\n",
       "      <td>2.0</td>\n",
       "    </tr>\n",
       "    <tr>\n",
       "      <th>18</th>\n",
       "      <td>6565</td>\n",
       "      <td>1949</td>\n",
       "      <td>Master</td>\n",
       "      <td>Married</td>\n",
       "      <td>76995.0</td>\n",
       "      <td>0.0</td>\n",
       "      <td>28.03.2013</td>\n",
       "      <td>2.0</td>\n",
       "    </tr>\n",
       "    <tr>\n",
       "      <th>19</th>\n",
       "      <td>9360</td>\n",
       "      <td>1982</td>\n",
       "      <td>Graduation</td>\n",
       "      <td>Married</td>\n",
       "      <td>37040.0</td>\n",
       "      <td>0.0</td>\n",
       "      <td>08.08.2012</td>\n",
       "      <td>1.0</td>\n",
       "    </tr>\n",
       "  </tbody>\n",
       "</table>\n",
       "</div>"
      ],
      "text/plain": [
       "      ID  Year_Birth   Education Marital_Status   Income  Kidhome Dt_Customer  \\\n",
       "0   5524        1957  Graduation         Single  58138.0      0.0  04.09.2012   \n",
       "1   2174        1954  Graduation         Single  46344.0      1.0  08.03.2014   \n",
       "2   4141        1965  Graduation       Together  71613.0      0.0  21.08.2013   \n",
       "3   6182        1984  Graduation       Together  26646.0      1.0  10.02.2014   \n",
       "4   5324        1981         PhD        Married  58293.0      1.0  19.01.2014   \n",
       "5   7446        1967      Master       Together  62513.0      0.0  09.09.2013   \n",
       "6    965        1971  Graduation       Divorced  55635.0      0.0  13.11.2012   \n",
       "7   6177        1985         PhD        Married  33454.0      1.0  08.05.2013   \n",
       "8   4855        1974         PhD       Together  30351.0      1.0  06.06.2013   \n",
       "9   5899        1950         PhD       Together   5648.0      1.0  13.03.2014   \n",
       "10  1994        1983  Graduation        MARRIED      NaN      NaN         NaN   \n",
       "11   387        1976       Basic        Married   7500.0      0.0  13.11.2012   \n",
       "12  2125        1959  Graduation       Divorced  63033.0      0.0  15.11.2013   \n",
       "13  8180        1952      Master       Divorced  59354.0      1.0  15.11.2013   \n",
       "14  2569        1987  Graduation        Married  17323.0      0.0  10.10.2012   \n",
       "15  2114        1946         PhD          SINGL  82800.0      0.0  24.11.2012   \n",
       "16  9736        1980  Graduation        Married  41850.0      1.0  24.12.2012   \n",
       "17  4939        1946  Graduation       Together  37760.0      0.0  31.08.2012   \n",
       "18  6565        1949      Master        Married  76995.0      0.0  28.03.2013   \n",
       "19  9360        1982  Graduation        Married  37040.0      0.0  08.08.2012   \n",
       "\n",
       "    NumDealsPurchases  \n",
       "0                 3.0  \n",
       "1                 2.0  \n",
       "2                 1.0  \n",
       "3                 2.0  \n",
       "4                 5.0  \n",
       "5                 2.0  \n",
       "6                 4.0  \n",
       "7                 2.0  \n",
       "8                 1.0  \n",
       "9                 1.0  \n",
       "10                NaN  \n",
       "11                1.0  \n",
       "12                1.0  \n",
       "13                3.0  \n",
       "14                1.0  \n",
       "15                1.0  \n",
       "16                3.0  \n",
       "17                2.0  \n",
       "18                2.0  \n",
       "19                1.0  "
      ]
     },
     "execution_count": 5,
     "metadata": {},
     "output_type": "execute_result"
    }
   ],
   "source": [
    "df.head(20) # применение метода 'head'"
   ]
  },
  {
   "cell_type": "markdown",
   "id": "4dd9ea94-65b1-48d8-a2f6-0d930898fb3a",
   "metadata": {},
   "source": [
    "2.2 Оценка данных с помощью метода info."
   ]
  },
  {
   "cell_type": "code",
   "execution_count": 6,
   "id": "2fa200fb-a10d-4e7a-9f0e-52834c731a9a",
   "metadata": {},
   "outputs": [
    {
     "name": "stdout",
     "output_type": "stream",
     "text": [
      "<class 'pandas.core.frame.DataFrame'>\n",
      "RangeIndex: 796 entries, 0 to 795\n",
      "Data columns (total 8 columns):\n",
      " #   Column             Non-Null Count  Dtype  \n",
      "---  ------             --------------  -----  \n",
      " 0   ID                 796 non-null    int64  \n",
      " 1   Year_Birth         796 non-null    int64  \n",
      " 2   Education          796 non-null    object \n",
      " 3   Marital_Status     796 non-null    object \n",
      " 4   Income             784 non-null    float64\n",
      " 5   Kidhome            795 non-null    float64\n",
      " 6   Dt_Customer        795 non-null    object \n",
      " 7   NumDealsPurchases  795 non-null    float64\n",
      "dtypes: float64(3), int64(2), object(3)\n",
      "memory usage: 49.9+ KB\n"
     ]
    }
   ],
   "source": [
    "df.info() # выполнение метода 'info'"
   ]
  },
  {
   "cell_type": "markdown",
   "id": "b539dcba-bc9b-45a9-b91f-d59a1cb7e9a0",
   "metadata": {},
   "source": [
    "2.3 Оценка данных с помощью метода describe."
   ]
  },
  {
   "cell_type": "code",
   "execution_count": 7,
   "id": "29c3fae7-36bb-4696-8b6a-eda8446b4ef5",
   "metadata": {},
   "outputs": [
    {
     "data": {
      "text/html": [
       "<div>\n",
       "<style scoped>\n",
       "    .dataframe tbody tr th:only-of-type {\n",
       "        vertical-align: middle;\n",
       "    }\n",
       "\n",
       "    .dataframe tbody tr th {\n",
       "        vertical-align: top;\n",
       "    }\n",
       "\n",
       "    .dataframe thead th {\n",
       "        text-align: right;\n",
       "    }\n",
       "</style>\n",
       "<table border=\"1\" class=\"dataframe\">\n",
       "  <thead>\n",
       "    <tr style=\"text-align: right;\">\n",
       "      <th></th>\n",
       "      <th>ID</th>\n",
       "      <th>Year_Birth</th>\n",
       "      <th>Income</th>\n",
       "      <th>Kidhome</th>\n",
       "      <th>NumDealsPurchases</th>\n",
       "    </tr>\n",
       "  </thead>\n",
       "  <tbody>\n",
       "    <tr>\n",
       "      <th>count</th>\n",
       "      <td>796.000000</td>\n",
       "      <td>796.000000</td>\n",
       "      <td>784.00000</td>\n",
       "      <td>795.000000</td>\n",
       "      <td>795.000000</td>\n",
       "    </tr>\n",
       "    <tr>\n",
       "      <th>mean</th>\n",
       "      <td>5630.133166</td>\n",
       "      <td>1968.356784</td>\n",
       "      <td>53130.07398</td>\n",
       "      <td>0.438994</td>\n",
       "      <td>2.314465</td>\n",
       "    </tr>\n",
       "    <tr>\n",
       "      <th>std</th>\n",
       "      <td>3273.039715</td>\n",
       "      <td>12.022132</td>\n",
       "      <td>21818.56876</td>\n",
       "      <td>0.547252</td>\n",
       "      <td>1.941650</td>\n",
       "    </tr>\n",
       "    <tr>\n",
       "      <th>min</th>\n",
       "      <td>0.000000</td>\n",
       "      <td>1899.000000</td>\n",
       "      <td>2447.00000</td>\n",
       "      <td>0.000000</td>\n",
       "      <td>0.000000</td>\n",
       "    </tr>\n",
       "    <tr>\n",
       "      <th>25%</th>\n",
       "      <td>2853.000000</td>\n",
       "      <td>1959.000000</td>\n",
       "      <td>36141.75000</td>\n",
       "      <td>0.000000</td>\n",
       "      <td>1.000000</td>\n",
       "    </tr>\n",
       "    <tr>\n",
       "      <th>50%</th>\n",
       "      <td>5563.000000</td>\n",
       "      <td>1969.500000</td>\n",
       "      <td>52372.50000</td>\n",
       "      <td>0.000000</td>\n",
       "      <td>2.000000</td>\n",
       "    </tr>\n",
       "    <tr>\n",
       "      <th>75%</th>\n",
       "      <td>8584.250000</td>\n",
       "      <td>1977.000000</td>\n",
       "      <td>69293.25000</td>\n",
       "      <td>1.000000</td>\n",
       "      <td>3.000000</td>\n",
       "    </tr>\n",
       "    <tr>\n",
       "      <th>max</th>\n",
       "      <td>11191.000000</td>\n",
       "      <td>1995.000000</td>\n",
       "      <td>162397.00000</td>\n",
       "      <td>2.000000</td>\n",
       "      <td>15.000000</td>\n",
       "    </tr>\n",
       "  </tbody>\n",
       "</table>\n",
       "</div>"
      ],
      "text/plain": [
       "                 ID   Year_Birth        Income     Kidhome  NumDealsPurchases\n",
       "count    796.000000   796.000000     784.00000  795.000000         795.000000\n",
       "mean    5630.133166  1968.356784   53130.07398    0.438994           2.314465\n",
       "std     3273.039715    12.022132   21818.56876    0.547252           1.941650\n",
       "min        0.000000  1899.000000    2447.00000    0.000000           0.000000\n",
       "25%     2853.000000  1959.000000   36141.75000    0.000000           1.000000\n",
       "50%     5563.000000  1969.500000   52372.50000    0.000000           2.000000\n",
       "75%     8584.250000  1977.000000   69293.25000    1.000000           3.000000\n",
       "max    11191.000000  1995.000000  162397.00000    2.000000          15.000000"
      ]
     },
     "execution_count": 7,
     "metadata": {},
     "output_type": "execute_result"
    }
   ],
   "source": [
    "df.describe() # оценка числовых столбцов с помощью 'describe'"
   ]
  },
  {
   "cell_type": "markdown",
   "id": "16870b0a-5feb-4a7d-b821-93518ec0eebf",
   "metadata": {},
   "source": [
    "---\n",
    "\n",
    "## **Вывод**\n",
    "**столбец ID** - это уникальный идентификатор записи. Этот столбец используется для идентификации записей, и *статистики (например, среднее или стандартное отклонение) обычно не несут практической ценности*\n",
    "- mean — среднее значение ID, что не имеет практического смысла, так как ID обычно номинальный идентификатор\n",
    "- std — стандартное отклонение, показывающее разброс значений ID\n",
    "\n",
    "**столбец Year_Birth** - это год рождения клиента\n",
    "- mean — средний год рождения, что указывает на средний возраст клиента - около 57 лет (2025 - 1968 ≈ 57)\n",
    "- std — стандартное отклонение, показывающее разброс годов рождения\n",
    "  \n",
    "**столбец Income** - это доход клиента в условных единицах\n",
    "- count — количество записей с данными о доходе (меньше, чем в других столбцах - это значит, что есть пропущенные значения)\n",
    "- std — стандартное отклонение, показывающее значительный разброс доходов\n",
    "  \n",
    "**столбец Kidhome** - это количество детей в семье клиента\n",
    "- mean - в среднем на одного клиента приходится 0.44 ребенка\n",
    "- std - стандартное отклонение, показывающее, что большинство семей имеют 0 или 1 ребенка\n",
    "  \n",
    "**столбец NumDealsPurchases** - это количество совершенных покупок:\n",
    "- count - количество записей с данными о покупках\n",
    "- mean - в среднем клиенты совершают около 2.3 покупок\n",
    "- std - стандартное отклонение, показывающее умеренный разброс\n",
    "- min - некоторые клиенты не совершали покупок\n",
    "  \n",
    " ---"
   ]
  },
  {
   "cell_type": "markdown",
   "id": "b3b9c057-0c3c-49ba-9b8f-418a7a007ef9",
   "metadata": {},
   "source": [
    " 2.4 Оценка названий столбцов"
   ]
  },
  {
   "cell_type": "code",
   "execution_count": 8,
   "id": "85eb8494-2160-4f62-8b43-7ba05ae22d65",
   "metadata": {},
   "outputs": [
    {
     "data": {
      "text/plain": [
       "Index(['ID', 'Year_Birth', 'Education', 'Marital_Status', 'Income', 'Kidhome',\n",
       "       'Dt_Customer', 'NumDealsPurchases'],\n",
       "      dtype='object')"
      ]
     },
     "execution_count": 8,
     "metadata": {},
     "output_type": "execute_result"
    }
   ],
   "source": [
    "df.columns # Вывод на экран названий столбцов с помощью df.columns"
   ]
  },
  {
   "cell_type": "code",
   "execution_count": 9,
   "id": "ee147a43-e3b6-4257-b669-0c4c289e637f",
   "metadata": {},
   "outputs": [],
   "source": [
    "df.columns = df.columns.str.lower()\n",
    "df = df.rename(columns={'kidhome': 'num_kids','dt_customer': 'registration_date', 'numdealspurchases': 'num_deals_purchases'}) # Переименование столбцов по необходимости"
   ]
  },
  {
   "cell_type": "code",
   "execution_count": 10,
   "id": "aab1daf0-3ff3-4794-8c63-4c0cb64c944e",
   "metadata": {},
   "outputs": [
    {
     "data": {
      "text/plain": [
       "Index(['id', 'year_birth', 'education', 'marital_status', 'income', 'num_kids',\n",
       "       'registration_date', 'num_deals_purchases'],\n",
       "      dtype='object')"
      ]
     },
     "execution_count": 10,
     "metadata": {},
     "output_type": "execute_result"
    }
   ],
   "source": [
    "df.columns"
   ]
  },
  {
   "cell_type": "markdown",
   "id": "eb094fbc-e69b-4b32-9005-247390aad529",
   "metadata": {},
   "source": [
    "---\n",
    "## **Пояснение**\n",
    "\n",
    "Все столбцы используют стиль *CamelCase*, который не соответствует рекомендациям PEP 8 (*snake_case* предпочтительнее в Python). Это может затруднить читаемость и единообразие кода. В соответствии с этим выводом столбцы были переименованы, некоторые аббревиатуры (*Kidhome*, *Dt_Customer*) были заменены на более лаканичные и описательные названия \n",
    "\n",
    "---"
   ]
  },
  {
   "cell_type": "markdown",
   "id": "f0da51d4-515d-4a07-b6ac-f6f4dbe60f6b",
   "metadata": {},
   "source": [
    "### 3. Проверка пропусков"
   ]
  },
  {
   "cell_type": "code",
   "execution_count": 11,
   "id": "e17a7f5f-712a-4e69-a7e8-fb1481883bec",
   "metadata": {},
   "outputs": [
    {
     "name": "stdout",
     "output_type": "stream",
     "text": [
      "id                      0\n",
      "year_birth              0\n",
      "education               0\n",
      "marital_status          0\n",
      "income                 12\n",
      "num_kids                1\n",
      "registration_date       1\n",
      "num_deals_purchases     1\n",
      "dtype: int64\n"
     ]
    }
   ],
   "source": [
    " print(df.isna().sum()) # подсчет количества пропусков"
   ]
  },
  {
   "cell_type": "code",
   "execution_count": 12,
   "id": "c26a82f1-78c1-4434-8d29-f2e53f0ebd99",
   "metadata": {},
   "outputs": [],
   "source": [
    " df = df.dropna(subset=[ 'income', 'num_kids', 'registration_date', 'num_deals_purchases']) # Удаление строк, в которых в указанных столбцах есть NaN"
   ]
  },
  {
   "cell_type": "code",
   "execution_count": 13,
   "id": "9605c992-b6e4-40a1-ab3b-ed404197f6b9",
   "metadata": {},
   "outputs": [
    {
     "name": "stdout",
     "output_type": "stream",
     "text": [
      "id                     0\n",
      "year_birth             0\n",
      "education              0\n",
      "marital_status         0\n",
      "income                 0\n",
      "num_kids               0\n",
      "registration_date      0\n",
      "num_deals_purchases    0\n",
      "dtype: int64\n"
     ]
    }
   ],
   "source": [
    " print(df.isna().sum()) # Проверка на отсутствие пропусков"
   ]
  },
  {
   "cell_type": "markdown",
   "id": "6ecde659-4ed2-4f1e-8f71-07f59eeeaea2",
   "metadata": {},
   "source": [
    "### 4. Проверка дубликатов"
   ]
  },
  {
   "cell_type": "markdown",
   "id": "bf7fa7a9-4bf7-4ee8-ad08-10545c9c810f",
   "metadata": {},
   "source": [
    "#### Проверка явных дубликатов"
   ]
  },
  {
   "cell_type": "code",
   "execution_count": 14,
   "id": "d455b392-9906-4b6a-b7f5-6276e59972e4",
   "metadata": {},
   "outputs": [
    {
     "name": "stdout",
     "output_type": "stream",
     "text": [
      "4\n"
     ]
    }
   ],
   "source": [
    " df[df.duplicated()] # получение дубликатов с помощью логической индексации\n",
    " print(df.duplicated().sum()) # подсчет количества дубликатов"
   ]
  },
  {
   "cell_type": "code",
   "execution_count": 15,
   "id": "1af974af-fb67-4d02-b376-8eedd18acc5a",
   "metadata": {},
   "outputs": [],
   "source": [
    " df = df.drop_duplicates().reset_index() # удаление дубликатов  и обновление индексации"
   ]
  },
  {
   "cell_type": "code",
   "execution_count": 16,
   "id": "c34434af-a835-4acb-b7c5-ab3596b905dd",
   "metadata": {},
   "outputs": [
    {
     "name": "stdout",
     "output_type": "stream",
     "text": [
      "0\n"
     ]
    }
   ],
   "source": [
    "df[df.duplicated()]\n",
    "print(df.duplicated().sum()) # Проверка на отсутствие дубликатов"
   ]
  },
  {
   "cell_type": "markdown",
   "id": "526c731a-ff67-4630-bf18-95ed6b886aa6",
   "metadata": {},
   "source": [
    "#### Проверка неявных дубликатов"
   ]
  },
  {
   "cell_type": "code",
   "execution_count": 17,
   "id": "d4b3ed49-b40c-44dc-984b-b58492e05481",
   "metadata": {},
   "outputs": [
    {
     "name": "stdout",
     "output_type": "stream",
     "text": [
      "marital_status\n",
      "Married     301\n",
      "Together    192\n",
      "Single      168\n",
      "Divorced     85\n",
      "Widow        29\n",
      "Alone         3\n",
      "MARRIED       1\n",
      "SINGL         1\n",
      "Name: count, dtype: int64\n"
     ]
    }
   ],
   "source": [
    "print(df['marital_status'].value_counts())"
   ]
  },
  {
   "cell_type": "code",
   "execution_count": 18,
   "id": "60fefc99-7b80-40fd-8d74-132e95f7af39",
   "metadata": {},
   "outputs": [],
   "source": [
    " df['marital_status'] = df['marital_status'].replace('MARRIED', 'Married').replace('SINGL', 'Single').replace('Alone', 'Single')"
   ]
  },
  {
   "cell_type": "code",
   "execution_count": 19,
   "id": "d8d6c462-fbca-4e19-987a-4c03b46787ab",
   "metadata": {},
   "outputs": [
    {
     "name": "stdout",
     "output_type": "stream",
     "text": [
      "marital_status\n",
      "Married     302\n",
      "Together    192\n",
      "Single      172\n",
      "Divorced     85\n",
      "Widow        29\n",
      "Name: count, dtype: int64\n"
     ]
    }
   ],
   "source": [
    "print(df['marital_status'].value_counts())"
   ]
  },
  {
   "cell_type": "markdown",
   "id": "a3a0e401-abb9-4d44-8851-51d867afed0e",
   "metadata": {},
   "source": [
    "---\n",
    "## **Пояснение**\n",
    "\n",
    "Для проверки был выбран только столбец *marital_status*, поскольку только он может иметь несколько вариаций на одно слово (Married - married - Maried). Остальные столбцы несут ту информацию, которая имеет право на дублирование (например, у клиентов могут совпадать доходы и количество детей)\n",
    "\n",
    "---"
   ]
  },
  {
   "cell_type": "markdown",
   "id": "4d9231ba-617d-490d-904b-e50682aa0caf",
   "metadata": {},
   "source": [
    "### 5. Провека типов данных"
   ]
  },
  {
   "cell_type": "code",
   "execution_count": 20,
   "id": "ce2322d7-0b19-40ed-9658-53a84284006d",
   "metadata": {},
   "outputs": [
    {
     "name": "stdout",
     "output_type": "stream",
     "text": [
      "<class 'pandas.core.frame.DataFrame'>\n",
      "RangeIndex: 780 entries, 0 to 779\n",
      "Data columns (total 9 columns):\n",
      " #   Column               Non-Null Count  Dtype         \n",
      "---  ------               --------------  -----         \n",
      " 0   index                780 non-null    int64         \n",
      " 1   id                   780 non-null    int64         \n",
      " 2   year_birth           780 non-null    int64         \n",
      " 3   education            780 non-null    object        \n",
      " 4   marital_status       780 non-null    object        \n",
      " 5   income               780 non-null    float64       \n",
      " 6   num_kids             780 non-null    int64         \n",
      " 7   registration_date    780 non-null    datetime64[ns]\n",
      " 8   num_deals_purchases  780 non-null    int64         \n",
      "dtypes: datetime64[ns](1), float64(1), int64(5), object(2)\n",
      "memory usage: 55.0+ KB\n"
     ]
    }
   ],
   "source": [
    "df['registration_date'] = pd.to_datetime(\n",
    " df['registration_date'], format='%d.%m.%Y'\n",
    " ) #  Преобразование столбцов registration_date из формата object к формату даты\n",
    "df['num_kids'] = df['num_kids'].astype(int) # Преобразование столбцов из формата float в формат int\n",
    "df['num_deals_purchases'] = df['num_deals_purchases'].astype(int)\n",
    "df.info()"
   ]
  },
  {
   "cell_type": "markdown",
   "id": "a907d7ff-2858-422d-9da4-3d0473acaf10",
   "metadata": {},
   "source": [
    "### 6. Группировка данных"
   ]
  },
  {
   "cell_type": "markdown",
   "id": "478dbcd8-7b0f-49f9-9f38-9290db3dd314",
   "metadata": {},
   "source": [
    "#### Задание 1"
   ]
  },
  {
   "cell_type": "markdown",
   "id": "0c883b14-752e-4157-8ba1-23e18efbcb03",
   "metadata": {},
   "source": [
    "*`Группировка - тип образования по каждому семейному статусу (marital_status).`*"
   ]
  },
  {
   "cell_type": "code",
   "execution_count": 21,
   "id": "5f45972d-ca94-4f32-9797-52e42e9c0964",
   "metadata": {},
   "outputs": [
    {
     "name": "stdout",
     "output_type": "stream",
     "text": [
      "education   marital_status\n",
      "Basic       Married             9\n",
      "            Together            4\n",
      "            Divorced            1\n",
      "            Single              1\n",
      "Graduation  Married           168\n",
      "            Single             98\n",
      "            Together           96\n",
      "            Divorced           49\n",
      "            Widow              21\n",
      "Master      Married            57\n",
      "            Together           41\n",
      "            Single             32\n",
      "            Divorced           12\n",
      "            Widow               4\n",
      "PhD         Married            68\n",
      "            Together           51\n",
      "            Single             41\n",
      "            Divorced           23\n",
      "            Widow               4\n",
      "Name: count, dtype: int64\n"
     ]
    }
   ],
   "source": [
    "grouped = df.groupby('education')['marital_status'].value_counts()\n",
    "print (grouped)"
   ]
  },
  {
   "cell_type": "markdown",
   "id": "794ccbc0-3717-4b16-a1bc-b1e0e3cd192d",
   "metadata": {},
   "source": [
    "---\n",
    "## **Вывод**\n",
    "\n",
    " Интерпритация - из результата данной сортировки можно увидеть, что больше всего женатых и одиноких клиентов имеют высшее образование. Наименьшее же количество отношений имеют клиенты с базовым образованием\n",
    "\n",
    "---"
   ]
  },
  {
   "cell_type": "markdown",
   "id": "1209d322-7e18-44b4-897c-1a826309cf02",
   "metadata": {},
   "source": [
    "#### Задание 2"
   ]
  },
  {
   "cell_type": "markdown",
   "id": "685c5c58-38cd-46a3-a42d-ef9723b2927b",
   "metadata": {},
   "source": [
    "*`Группировка - семейный статус (marital_status) по количеству детей. Создать датафрейм. Переименовать столбец с количеством в “сount”. Отсортировать по убыванию столбца “count”`*"
   ]
  },
  {
   "cell_type": "code",
   "execution_count": 22,
   "id": "d3555339-0b80-4881-934c-86f77d9e0497",
   "metadata": {},
   "outputs": [
    {
     "name": "stdout",
     "output_type": "stream",
     "text": [
      "marital_status  num_kids  count\n",
      "       Married         0    166\n",
      "       Married         1    125\n",
      "      Together         0    123\n",
      "        Single         0     97\n",
      "        Single         1     72\n",
      "      Together         1     66\n",
      "      Divorced         0     52\n",
      "      Divorced         1     31\n",
      "         Widow         0     24\n",
      "       Married         2     11\n",
      "         Widow         1      5\n",
      "        Single         2      3\n",
      "      Together         2      3\n",
      "      Divorced         2      2\n"
     ]
    }
   ],
   "source": [
    "grouped = df.groupby('marital_status')['num_kids'].value_counts().reset_index(name='count')\n",
    "grouped = grouped.sort_values(by='count', ascending=False)\n",
    "print (grouped.to_string(index=False))"
   ]
  },
  {
   "cell_type": "markdown",
   "id": "52581073-7e10-45e7-b027-086e3ef31557",
   "metadata": {},
   "source": [
    "---\n",
    "## **Вывод**\n",
    "\n",
    "Интерпритация - из результата данной сортировки можно увидеть, что больше всего женатых клиентов имеют не более одного ребенка. Наибольшее количество детей имеет наименьшая группа клиентов - находящихся в отношениях или разведенных\n",
    "\n",
    "---"
   ]
  },
  {
   "cell_type": "markdown",
   "id": "c6b9dae6-4309-44f8-be61-7ead6cec6533",
   "metadata": {},
   "source": [
    "#### Задание 3"
   ]
  },
  {
   "cell_type": "markdown",
   "id": "e8114913-487b-4bb7-88ac-04ba17b992d5",
   "metadata": {},
   "source": [
    "*`Сводная таблица (pivot_table) - средний доход семьи по семейному\n",
    "положению. Отсортировать по убыванию. Округлить до двух знаков`*"
   ]
  },
  {
   "cell_type": "code",
   "execution_count": 72,
   "id": "ea55ae96-5513-4a98-b113-f77b6919d0d5",
   "metadata": {},
   "outputs": [
    {
     "name": "stdout",
     "output_type": "stream",
     "text": [
      "                  income\n",
      "marital_status          \n",
      "Widow           55452.45\n",
      "Divorced        54568.16\n",
      "Together        54502.84\n",
      "Married         52898.34\n",
      "Single          50934.03\n"
     ]
    }
   ],
   "source": [
    "pivot_table = df.pivot_table(\n",
    "    values='income',   \n",
    "    index='marital_status', \n",
    "    aggfunc='mean').round(2).sort_values(by='income', ascending=False)\n",
    "print(pivot_table)"
   ]
  },
  {
   "cell_type": "markdown",
   "id": "e58d50fc-74a7-4112-a945-269747fcaeee",
   "metadata": {},
   "source": [
    "---\n",
    "## **Вывод**\n",
    "\n",
    "Интерпритация - из результата данной сортировки можно увидеть, что наибольший средний доход имеют овдовевшие клиенты, наименьший - одинокие\n",
    "\n",
    "---"
   ]
  },
  {
   "cell_type": "markdown",
   "id": "e438641b-5d5d-4621-aab1-20171ac1b8e8",
   "metadata": {},
   "source": [
    "#### Задание 4"
   ]
  },
  {
   "cell_type": "markdown",
   "id": "bf50ddce-57ac-40f1-8940-ba944b6f081b",
   "metadata": {},
   "source": [
    "*`Сводная таблица (pivot_table) - среднее количество покупок по уровню\n",
    "образованию - строки и году рождения - столбцы. Отсортировать по возрастанию\n",
    "education. Округлить до двух знаков.`*"
   ]
  },
  {
   "cell_type": "code",
   "execution_count": 73,
   "id": "7cd49622-89ff-4abe-86cc-d54dcf201c01",
   "metadata": {},
   "outputs": [
    {
     "name": "stdout",
     "output_type": "stream",
     "text": [
      "year_birth  1899  1941  1943  1944  1945  1946  1947  1948  1949  1950  ...  \\\n",
      "education                                                               ...   \n",
      "Basic        NaN   NaN   NaN   NaN   NaN   NaN   NaN   NaN   NaN   NaN  ...   \n",
      "Graduation   NaN   NaN   NaN   1.0   NaN  1.67   1.0  1.00   1.0  2.00  ...   \n",
      "Master       NaN   NaN   1.0   1.0   1.0  1.00   1.0  1.00   2.2  5.00  ...   \n",
      "PhD          1.0   0.0   1.5   1.0   1.5  2.00   1.0  2.43   2.5  1.67  ...   \n",
      "\n",
      "year_birth  1986  1987  1988  1989  1990  1991  1992  1993  1994  1995  \n",
      "education                                                               \n",
      "Basic       2.00  2.00   NaN  1.00   1.0   NaN   NaN   NaN   NaN   NaN  \n",
      "Graduation  1.29  1.67  1.92  1.88   1.0   1.0   1.0   1.0   1.0   1.0  \n",
      "Master      2.50  1.00  1.00  2.00   NaN   NaN   1.0   NaN   NaN   NaN  \n",
      "PhD         1.50   NaN  1.00  1.00   NaN   1.0   NaN   NaN   NaN   NaN  \n",
      "\n",
      "[4 rows x 55 columns]\n"
     ]
    }
   ],
   "source": [
    "pivot_table = df.pivot_table(\n",
    "    values='num_deals_purchases',\n",
    "    index='education',\n",
    "    columns='year_birth',\n",
    "    aggfunc='mean').round(2).sort_index(ascending=True)\n",
    "print(pivot_table)"
   ]
  },
  {
   "cell_type": "markdown",
   "id": "a7866ccc-a8b0-4a47-90be-96f6d9d71e60",
   "metadata": {},
   "source": [
    "---\n",
    "## **Вывод**\n",
    "\n",
    "Интерпритация - из результата данной сортировки можно увидеть, что данные о среднем количестве покупок клиентов с базовым образованием отсутствует, вне зависимости от года рождения. Наибольшее среднее количество покупок совершили клиенты с образованием PhD 1949 года рождения\n",
    "\n",
    "---"
   ]
  },
  {
   "cell_type": "markdown",
   "id": "403a446c-77ae-47bb-b752-02b79aa97946",
   "metadata": {},
   "source": [
    "### Вывод"
   ]
  },
  {
   "cell_type": "markdown",
   "id": "d1fb3bd3-ae99-439b-b5fc-cd67407bec25",
   "metadata": {},
   "source": [
    "\n",
    "***`В ходе лабораторной работы был проанализирован набор данных о клиентах - маркетинговый анализ поведения потребителей. Были использованы следующие методы предобработки:исправление пути к файлу (обработка unicodeescape с помощью raw-строк), проверка статистик, переименование столбцов в snake_case (через нижний регистр), поиск неявных дубликатов в текстовых столбцах с помощью unique() и value_counts(), исправление replace(), преобразование типов, преобразование дат, удаление NaN.`***\n",
    "\n",
    "***`Выводы из группировок и сводных таблиц:`***\n",
    "\n",
    "***`Группировка education по marital_status: статус \"married\" преобладает во всех уровнях образования (basic, graduation, master, PhD), с наибольшим количеством в graduation и PhD; статус \"divorced\" чаще в graduation; статусы \"alone\" и \"widow\" редки, в основном в graduation и PhD.\n",
    "Группировка marital_status по num_kids: клиенты со статусом \"married\" имеют детей (0–2, с преобладанием 1); одинокие клиенты чаще без детей, реже с двумя; разведенные и овдовевшие — в основном 0–1 детей; сортировка по count показывает клиентов со статусом \"married\" с наибольшим общим объемом.\n",
    "Pivot table средний income по marital_status: разведенные клиенты имеет наивысший доход (~55453), за ним разведенные (~54568) и в отношениях (~54503); сортировка descending подчеркивает корреляцию статуса с доходом.\n",
    "Pivot table среднее num_deals_purchases по education (строки) и year_birth (столбцы): Для клиентов с базовым образованием 1970–1980-х годов рождения среднее число покупок составляет 2.5–3.0; для клиентов с образованием \"master\" - 4.0–5.0 в тех же годах; PhD - 1.0 в 1990-х; NaN в пустых комбинациях указывают на неравномерность распределения, с фокусом на старшие поколения, из чего следует вывод, что высшее образование коррелирует с большим доходом и покупками, но семейный статус влияет на детей и активность.`***\n"
   ]
  },
  {
   "cell_type": "code",
   "execution_count": null,
   "id": "12fa17f3-1327-4eca-843a-b0d10639d056",
   "metadata": {},
   "outputs": [],
   "source": []
  }
 ],
 "metadata": {
  "kernelspec": {
   "display_name": "Python 3 (ipykernel)",
   "language": "python",
   "name": "python3"
  },
  "language_info": {
   "codemirror_mode": {
    "name": "ipython",
    "version": 3
   },
   "file_extension": ".py",
   "mimetype": "text/x-python",
   "name": "python",
   "nbconvert_exporter": "python",
   "pygments_lexer": "ipython3",
   "version": "3.11.1"
  }
 },
 "nbformat": 4,
 "nbformat_minor": 5
}
